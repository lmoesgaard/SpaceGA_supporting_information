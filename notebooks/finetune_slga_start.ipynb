{
 "cells": [
  {
   "cell_type": "code",
   "execution_count": 1,
   "id": "8767b4eb-fb8e-4a87-8cfb-ad8790e41d00",
   "metadata": {},
   "outputs": [],
   "source": [
    "import os\n",
    "from rdkit import Chem\n",
    "import pandas as pd\n",
    "import seaborn as sns\n",
    "from matplotlib import pyplot as plt\n",
    "\n",
    "from utils import get_experiments"
   ]
  },
  {
   "cell_type": "code",
   "execution_count": 2,
   "id": "58214363-9aea-470c-8a8a-d1c9d8ee8cc5",
   "metadata": {},
   "outputs": [],
   "source": [
    "d = \"slga_hyper3\"\n",
    "e1 = get_experiments(d)\n",
    "d = \"slga_hyper1\"\n",
    "e2 = get_experiments(d)\n",
    "e2 = e2[(e2.Pc == 0.1)]\n",
    "e = pd.concat([e1, e2])\n",
    "e.Nits = e.Nits.astype(int)\n",
    "palette = sns.color_palette(\"Spectral\", 6)[::5]"
   ]
  },
  {
   "cell_type": "code",
   "execution_count": null,
   "id": "c154d740-24b2-4cbe-be69-ec392db00d99",
   "metadata": {},
   "outputs": [],
   "source": [
    "sns.set_theme()\n",
    "fig, axes = plt.subplots(3, 3, figsize=(15, 15))\n",
    "\n",
    "for k, (t, subset) in enumerate(e.groupby(\"Target\")):\n",
    "    # Generation docking scores\n",
    "    combined = None\n",
    "    ax = axes[k,0]\n",
    "    for _, row in subset.iterrows():\n",
    "        df = pd.concat([pd.read_parquet(f\"{row.path}/gen_{n}.parquet\") for n in range(1,row.Nits+1)])\n",
    "        df[\"Start\"] = row.Start\n",
    "        combined = pd.concat([combined, df])\n",
    "    sns.lineplot(combined, x=\"generation\", y=\"scores\", hue=\"Start\", palette=palette, ax=ax)\n",
    "    ax.set_ylabel(\"-(Docking Scores)\")\n",
    "    ax.set_xlabel(\"Generation\")\n",
    "    ax.set_xlim(0,50)\n",
    "    ax.set_title(f\"{t} - Docking scores of each generation\")\n",
    "    ax = axes[k,1]\n",
    "\n",
    "    # Population docking scores\n",
    "    combined = None\n",
    "    for _, row in subset.iterrows():\n",
    "        df = pd.concat([pd.read_parquet(f\"{row.path}/pop_{n}.parquet\") for n in range(1,row.Nits+1)])\n",
    "        df[\"Start\"] = row.Start\n",
    "        combined = pd.concat([combined, df])\n",
    "    sns.lineplot(combined, x=\"generation\", y=\"scores\", hue=\"Start\", palette=palette, ax=ax)\n",
    "    ax.set_ylabel(\"-(Docking Scores)\")\n",
    "    ax.set_xlabel(\"Generation\")\n",
    "    ax.set_xlim(0,50)\n",
    "    ax.set_title(f\"{t} - Docking scores of each population\")\n",
    "\n",
    "    # Violin plot final population\n",
    "    ax = axes[k,2]\n",
    "    combined = None\n",
    "    for _, row in subset.iterrows():\n",
    "        df = pd.read_parquet(f\"{row.path}/pop_{row.Nits}.parquet\")\n",
    "        df[\"Start\"] = row.Start\n",
    "        combined = pd.concat([combined, df])\n",
    "    sns.violinplot(combined, y=\"scores\", x=\"Start\", inner=\"quart\", ax=ax, color=palette[0])\n",
    "    ax.set_title(f\"{t} - Distribution of docking scores in final population\")\n",
    "    ax.set_ylabel(\"-(Docking Scores)\")\n",
    "\n",
    "plt.tight_layout()\n",
    "plt.savefig(\"../figures/slga_start.pdf\")"
   ]
  }
 ],
 "metadata": {
  "kernelspec": {
   "display_name": "Python 3 (ipykernel)",
   "language": "python",
   "name": "python3"
  },
  "language_info": {
   "codemirror_mode": {
    "name": "ipython",
    "version": 3
   },
   "file_extension": ".py",
   "mimetype": "text/x-python",
   "name": "python",
   "nbconvert_exporter": "python",
   "pygments_lexer": "ipython3",
   "version": "3.12.2"
  }
 },
 "nbformat": 4,
 "nbformat_minor": 5
}
